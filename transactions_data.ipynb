{
 "cells": [
  {
   "cell_type": "code",
   "execution_count": 1,
   "id": "c66bb30c",
   "metadata": {},
   "outputs": [],
   "source": [
    "from faker import Faker\n",
    "from faker_food import FoodProvider\n",
    "from random import randint\n",
    "from random import uniform\n",
    "from random import choice\n",
    "from datetime import datetime"
   ]
  },
  {
   "cell_type": "code",
   "execution_count": 2,
   "id": "fa52cb47",
   "metadata": {},
   "outputs": [],
   "source": [
    "# saving data to txt file\n",
    "\n",
    "def to_txt(file, name):\n",
    "    \n",
    "    filepath = name\n",
    "    f = open(filepath, 'w', encoding=\"utf-8\")\n",
    "    i = 0\n",
    "    while(i<len(file)):\n",
    "        j = 0\n",
    "        while(j<len(file[i])):\n",
    "            if j == 0:\n",
    "                f.write(str(file[i][j]))\n",
    "            else:\n",
    "                f.write(',')\n",
    "                f.write(str(file[i][j]))\n",
    "            j = j+1\n",
    "        i = i+1\n",
    "        if i!=len(file):\n",
    "            f.write('\\n')\n",
    "    f.close()"
   ]
  },
  {
   "cell_type": "code",
   "execution_count": 3,
   "id": "e71116c8",
   "metadata": {},
   "outputs": [],
   "source": [
    "countries = ['en_US', 'fr_FR', 'pl_PL', 'de_DE', 'en_AU', 'es_ES']"
   ]
  },
  {
   "cell_type": "code",
   "execution_count": 4,
   "id": "8ff83c16",
   "metadata": {},
   "outputs": [
    {
     "data": {
      "text/plain": [
       "[[1,\n",
       "  'New Melanie',\n",
       "  '001-141-777-6317x06690',\n",
       "  '3915 Andrew Run Apt. 636',\n",
       "  'United States',\n",
       "  '95639'],\n",
       " [2,\n",
       "  'New Amy',\n",
       "  '(979)190-7483x378',\n",
       "  '2328 Figueroa Skyway Apt. 290',\n",
       "  'United States',\n",
       "  '39988'],\n",
       " [3, 'Judyhaven', '7302157368', '303 Ramirez Ways', 'United States', '51545']]"
      ]
     },
     "execution_count": 4,
     "metadata": {},
     "output_type": "execute_result"
    }
   ],
   "source": [
    "# generating fake data (e.g. postalCode may not match the city)\n",
    "# offices\n",
    "\n",
    "offices = []\n",
    "\n",
    "office_code = []\n",
    "\n",
    "i = 1\n",
    "for el in countries:\n",
    "    for j in range(3):\n",
    "        fake = Faker(el)\n",
    "        Faker.seed(i+j)\n",
    "        offices.append([i, fake.city(), fake.phone_number(), fake.street_address(), fake.current_country(), fake.postcode()])\n",
    "        # office_code, city, phone, adress, country, postcode\n",
    "        office_code.append(i)\n",
    "        i = i+1\n",
    "\n",
    "offices[:3]"
   ]
  },
  {
   "cell_type": "code",
   "execution_count": 5,
   "id": "3983ce42",
   "metadata": {},
   "outputs": [],
   "source": [
    "to_txt(offices, 'offices.txt')"
   ]
  },
  {
   "cell_type": "code",
   "execution_count": 6,
   "id": "dd98d192",
   "metadata": {
    "scrolled": true
   },
   "outputs": [
    {
     "data": {
      "text/plain": [
       "[['66048763', 'Saffron', 476, 23.93],\n",
       " ['29141777', 'Radish', 387, 9.67],\n",
       " ['01152449', 'French eschallots', 413, 7.5]]"
      ]
     },
     "execution_count": 6,
     "metadata": {},
     "output_type": "execute_result"
    }
   ],
   "source": [
    "# products\n",
    "\n",
    "fake = Faker()\n",
    "fake.add_provider(FoodProvider)\n",
    "\n",
    "products = []\n",
    "\n",
    "product_code = []\n",
    "product_name = []\n",
    "\n",
    "for i in range(150):\n",
    "    \n",
    "    tf = False\n",
    "    while tf == False:\n",
    "        Faker.seed(i)\n",
    "        code = fake.ean(length=8)\n",
    "        if code not in product_code:\n",
    "            tf = True\n",
    "            product_code.append(code)\n",
    "            \n",
    "    tf = False\n",
    "    while tf == False:\n",
    "        r = randint(1,4)\n",
    "        if r == 1:\n",
    "            food = fake.vegetable()\n",
    "        elif r == 2:\n",
    "            food = fake.fruit()\n",
    "        elif r == 3:\n",
    "            food = fake.dish()\n",
    "        else:\n",
    "            food = fake.spice()\n",
    "        if food not in product_name:\n",
    "            tf = True\n",
    "            product_name.append(food)\n",
    "            \n",
    "#print(len(product_code) == len(set(product_code)))\n",
    "#print(len(product_name) == len(set(product_name)))\n",
    "            \n",
    "            \n",
    "for i in range(150):\n",
    "    products.append([product_code[i], product_name[i], randint(0, 500), round(uniform(5, 40), 2)])\n",
    "    # product_code, product_name, quantity_in_stock, suggested price\n",
    "\n",
    "products[:3]"
   ]
  },
  {
   "cell_type": "code",
   "execution_count": 7,
   "id": "3532ca82",
   "metadata": {},
   "outputs": [],
   "source": [
    "to_txt(products, 'products.txt')"
   ]
  },
  {
   "cell_type": "code",
   "execution_count": 8,
   "id": "f7b0c29d",
   "metadata": {},
   "outputs": [
    {
     "data": {
      "text/plain": [
       "[1, 2, 3, 4, 5]"
      ]
     },
     "execution_count": 8,
     "metadata": {},
     "output_type": "execute_result"
    }
   ],
   "source": [
    "office_code[:5]"
   ]
  },
  {
   "cell_type": "code",
   "execution_count": 9,
   "id": "7030035b",
   "metadata": {},
   "outputs": [
    {
     "name": "stdout",
     "output_type": "stream",
     "text": [
      "52\n"
     ]
    },
    {
     "data": {
      "text/plain": [
       "[[3953, 'Richard', 'Katherine', 'gwilliams@example.com', 3],\n",
       " [5844, 'Taylor', 'Sarah', 'scotttyler@example.com', 7],\n",
       " [9894, 'Blanchard', 'Travis', 'davismichael@example.org', 7]]"
      ]
     },
     "execution_count": 9,
     "metadata": {},
     "output_type": "execute_result"
    }
   ],
   "source": [
    "# employees \n",
    "\n",
    "employees = []\n",
    "\n",
    "employee_number = []\n",
    "\n",
    "i = 0\n",
    "for el in countries:\n",
    "    \n",
    "    fake = Faker(el)\n",
    "    \n",
    "    a = randint(6,10)\n",
    "    for j in range(a):\n",
    "    \n",
    "        tf = False\n",
    "        while tf == False:\n",
    "            number = randint(1000, 9999)\n",
    "            if number not in employee_number:\n",
    "                tf = True\n",
    "                employee_number.append(number)\n",
    "                \n",
    "        Faker.seed(j)\n",
    "        gender = randint(1,3)\n",
    "        if gender == 1:\n",
    "            employees.append([employee_number[i], fake.last_name_female(), fake.first_name_female(), fake.email(), choice(office_code)])\n",
    "        elif gender == 2:\n",
    "            employees.append([employee_number[i], fake.last_name_male(), fake.first_name_male(), fake.email(), choice(office_code)])\n",
    "        else:\n",
    "            employees.append([employee_number[i], fake.last_name_nonbinary(), fake.first_name_nonbinary(), fake.email(), choice(office_code)])\n",
    "            \n",
    "        # employee_number, last_name, first_name, email, office_code\n",
    "        \n",
    "        i = i+1\n",
    "        \n",
    "print(i)\n",
    "employees[:3]"
   ]
  },
  {
   "cell_type": "code",
   "execution_count": 10,
   "id": "3f20eac9",
   "metadata": {},
   "outputs": [],
   "source": [
    "to_txt(employees, 'employees.txt')"
   ]
  },
  {
   "cell_type": "code",
   "execution_count": 11,
   "id": "51a1e18c",
   "metadata": {},
   "outputs": [
    {
     "name": "stdout",
     "output_type": "stream",
     "text": [
      "159\n"
     ]
    },
    {
     "data": {
      "text/plain": [
       "[[1948,\n",
       "  'Richard',\n",
       "  'Norma',\n",
       "  '(048)764-7593x82421',\n",
       "  '924 Jessica Vista Suite 781',\n",
       "  'Ryanborough',\n",
       "  '72921',\n",
       "  'United States'],\n",
       " [2576,\n",
       "  'Taylor',\n",
       "  'Ryan',\n",
       "  '001-141-777-6317x06690',\n",
       "  '3915 Andrew Run Apt. 636',\n",
       "  'New Jeffreymouth',\n",
       "  '65488',\n",
       "  'United States'],\n",
       " [9849,\n",
       "  'Blanchard',\n",
       "  'Stacie',\n",
       "  '1152449390',\n",
       "  '6858 Shaw Camp',\n",
       "  'West Stevenmouth',\n",
       "  '50310',\n",
       "  'United States']]"
      ]
     },
     "execution_count": 11,
     "metadata": {},
     "output_type": "execute_result"
    }
   ],
   "source": [
    "# customers \n",
    "\n",
    "customers = []\n",
    "\n",
    "customer_number = []\n",
    "\n",
    "i = 0\n",
    "for el in countries:\n",
    "    \n",
    "    fake = Faker(el)\n",
    "    \n",
    "    a = randint(25,30)\n",
    "    for j in range(a):\n",
    "    \n",
    "        tf = False\n",
    "        while tf == False:\n",
    "            number = randint(1000, 9999)\n",
    "            if number not in customer_number:\n",
    "                tf = True\n",
    "                customer_number.append(number)\n",
    "                \n",
    "        Faker.seed(j)\n",
    "        gender = randint(1,3)\n",
    "        if gender == 1:\n",
    "            customers.append([customer_number[i], fake.last_name_female(), fake.first_name_female(), fake.phone_number(), fake.street_address(), fake.city(), fake.postcode(), fake.current_country()])\n",
    "        elif gender == 2:\n",
    "            customers.append([customer_number[i], fake.last_name_male(), fake.first_name_male(), fake.phone_number(), fake.street_address(), fake.city(), fake.postcode(), fake.current_country()])\n",
    "        else:\n",
    "            customers.append([customer_number[i], fake.last_name_nonbinary(), fake.first_name_nonbinary(), fake.phone_number(), fake.street_address(), fake.city(), fake.postcode(), fake.current_country()])\n",
    "            \n",
    "        # customer_number, last_name, first_name, phone, adres, city, post_code, country\n",
    "        \n",
    "        i = i+1\n",
    "\n",
    "print(i)\n",
    "customers[:3]"
   ]
  },
  {
   "cell_type": "code",
   "execution_count": 12,
   "id": "2a0ec1a6",
   "metadata": {},
   "outputs": [],
   "source": [
    "to_txt(customers, 'customers.txt')"
   ]
  },
  {
   "cell_type": "code",
   "execution_count": 13,
   "id": "27e30868",
   "metadata": {},
   "outputs": [
    {
     "data": {
      "text/plain": [
       "[1948, 2576, 9849, 6759, 8017]"
      ]
     },
     "execution_count": 13,
     "metadata": {},
     "output_type": "execute_result"
    }
   ],
   "source": [
    "customer_number[:5]"
   ]
  },
  {
   "cell_type": "code",
   "execution_count": 14,
   "id": "0d77d0d3",
   "metadata": {},
   "outputs": [
    {
     "data": {
      "text/plain": [
       "[[87684, '2021-05-30', '2022-04-21', 1905],\n",
       " [15603, '2020-05-05', '2020-08-11', 1341],\n",
       " [48866, '2020-01-05', '2020-05-26', 4334]]"
      ]
     },
     "execution_count": 14,
     "metadata": {},
     "output_type": "execute_result"
    }
   ],
   "source": [
    "# orders \n",
    "\n",
    "orders = []\n",
    "\n",
    "order_number = []\n",
    "\n",
    "for i in range(550):\n",
    "    \n",
    "    fake = Faker()\n",
    "\n",
    "    tf = False\n",
    "    while tf == False:\n",
    "        number = randint(10000, 99999)\n",
    "        if number not in order_number:\n",
    "            tf = True\n",
    "            order_number.append(number)\n",
    "            \n",
    "    Faker.seed(i)\n",
    "    \n",
    "    date = fake.date_between(datetime.strptime('2019-10-10', \"%Y-%m-%d\"), datetime.strptime('2022-09-26', \"%Y-%m-%d\"))\n",
    "    order_date = date.strftime(\"%Y-%m-%d\")\n",
    "    \n",
    "    date = fake.date_between(datetime.strptime(order_date, \"%Y-%m-%d\"), datetime.strptime('2022-09-26', \"%Y-%m-%d\"))\n",
    "    shipped_date = date.strftime(\"%Y-%m-%d\")\n",
    "    \n",
    "    orders.append([order_number[i], order_date, shipped_date, choice(customer_number)])\n",
    "    # order_number, order_date, shipped_date, customer_number\n",
    "    \n",
    "    \n",
    "orders[:3]"
   ]
  },
  {
   "cell_type": "code",
   "execution_count": 15,
   "id": "cd899420",
   "metadata": {},
   "outputs": [],
   "source": [
    "to_txt(orders, 'orders.txt')"
   ]
  },
  {
   "cell_type": "code",
   "execution_count": 16,
   "id": "7e6bf993",
   "metadata": {},
   "outputs": [
    {
     "data": {
      "text/plain": [
       "[[9595, '6011487647593824', '2021-05-30', 389.51],\n",
       " [9544, '3541777631706697', '2020-05-05', 1714.19],\n",
       " [3612, '5352449390926683', '2020-01-05', 3828.5]]"
      ]
     },
     "execution_count": 16,
     "metadata": {},
     "output_type": "execute_result"
    }
   ],
   "source": [
    "# payments\n",
    "\n",
    "payments = []\n",
    "\n",
    "for i in range(400):\n",
    "    \n",
    "    fake = Faker()\n",
    "    Faker.seed(i)\n",
    "    \n",
    "    date = fake.date_between(datetime.strptime('2019-10-10', \"%Y-%m-%d\"), datetime.strptime('2022-09-26', \"%Y-%m-%d\"))\n",
    "    payment_date = date.strftime(\"%Y-%m-%d\")\n",
    "    \n",
    "    payments.append([choice(customer_number), fake.credit_card_number(), payment_date, round(uniform(100, 5000), 2)])\n",
    "    # customer_number, credit_card_number, payment_date, amount\n",
    "    \n",
    "payments[:3]"
   ]
  },
  {
   "cell_type": "code",
   "execution_count": 17,
   "id": "66e0e8cf",
   "metadata": {},
   "outputs": [],
   "source": [
    "to_txt(payments, 'payments.txt')"
   ]
  },
  {
   "cell_type": "code",
   "execution_count": 18,
   "id": "a7dab77f",
   "metadata": {},
   "outputs": [
    {
     "data": {
      "text/plain": [
       "[87684, 15603, 48866, 46115, 80058]"
      ]
     },
     "execution_count": 18,
     "metadata": {},
     "output_type": "execute_result"
    }
   ],
   "source": [
    "order_number[:5]"
   ]
  },
  {
   "cell_type": "code",
   "execution_count": 19,
   "id": "779c3d30",
   "metadata": {},
   "outputs": [
    {
     "data": {
      "text/plain": [
       "['66048763', '29141777', '01152449', '39825971', '34167212']"
      ]
     },
     "execution_count": 19,
     "metadata": {},
     "output_type": "execute_result"
    }
   ],
   "source": [
    "product_code[:5]"
   ]
  },
  {
   "cell_type": "code",
   "execution_count": 20,
   "id": "14515f9a",
   "metadata": {},
   "outputs": [
    {
     "data": {
      "text/plain": [
       "[[24253, '24154048', 67, 5.73],\n",
       " [12098, '43778010', 84, 10.2],\n",
       " [27715, '36509089', 20, 32.87]]"
      ]
     },
     "execution_count": 20,
     "metadata": {},
     "output_type": "execute_result"
    }
   ],
   "source": [
    "# orderdetails\n",
    "\n",
    "orderdetails = []\n",
    "\n",
    "for i in range(4500):\n",
    "    orderdetails.append([choice(order_number), choice(product_code), randint(20, 200), round(uniform(5, 40), 2)])\n",
    "    # order_number, product_code, quantity_ordered, price_each\n",
    "    \n",
    "orderdetails[:3]"
   ]
  },
  {
   "cell_type": "code",
   "execution_count": 21,
   "id": "d99705fb",
   "metadata": {},
   "outputs": [],
   "source": [
    "to_txt(orderdetails, 'orderdetails.txt')"
   ]
  },
  {
   "cell_type": "code",
   "execution_count": null,
   "id": "abf4fbae",
   "metadata": {},
   "outputs": [],
   "source": []
  }
 ],
 "metadata": {
  "kernelspec": {
   "display_name": "Python 3 (ipykernel)",
   "language": "python",
   "name": "python3"
  },
  "language_info": {
   "codemirror_mode": {
    "name": "ipython",
    "version": 3
   },
   "file_extension": ".py",
   "mimetype": "text/x-python",
   "name": "python",
   "nbconvert_exporter": "python",
   "pygments_lexer": "ipython3",
   "version": "3.9.12"
  }
 },
 "nbformat": 4,
 "nbformat_minor": 5
}
